{
 "cells": [
  {
   "cell_type": "markdown",
   "metadata": {},
   "source": [
    "# Final Test"
   ]
  },
  {
   "cell_type": "markdown",
   "metadata": {},
   "source": [
    "This notebook runs the version of the model that includes all optimized parameters and compares the resulting latencies to ranges given by biological data. "
   ]
  },
  {
   "cell_type": "code",
   "execution_count": 7,
   "metadata": {
    "collapsed": false
   },
   "outputs": [],
   "source": [
    "import nengo\n",
    "import nengo.spa\n",
    "#import pandas\n",
    "import numpy as np\n",
    "#import seaborn as sns\n",
    "import matplotlib.pyplot as plt\n",
    "import pylab\n",
    "%matplotlib inline"
   ]
  },
  {
   "cell_type": "code",
   "execution_count": 8,
   "metadata": {
    "collapsed": false
   },
   "outputs": [],
   "source": [
    "import vision_benchmarks"
   ]
  },
  {
   "cell_type": "code",
   "execution_count": 9,
   "metadata": {
    "collapsed": false
   },
   "outputs": [
    {
     "name": "stdout",
     "output_type": "stream",
     "text": [
      "running Vision_Model#20160725-193043-7739df34\n",
      "Simulation finished in 0:00:26.                                                 \n",
      "_runtime = 2\n",
      "_result_feedback = 0.4195086163487056\n",
      "_compare_to_result_strength = 0.12966085928477078\n",
      "_D = 32\n",
      "_motor_feedback = 0.06848695023305285\n",
      "_motor_transform = 2.0\n",
      "_finger_feedback = 0.9603352183200515\n",
      "_motor_to_fingers_strength = 0.8079719992231219\n",
      "_AIT_V1_strength = 0.06848695023305285\n",
      "_V1_r_transform = 0.11090645719111913\n",
      "_AIT_r_transform = 0.8079719992231219\n",
      "_backend = 'nengo'\n",
      "_dt = 0.001\n",
      "_seed = 1\n",
      "_hide_overlay = False\n",
      "_gui = False\n",
      "AIT_to_PFC = 0.022000000000000002\n",
      "MC_to_finger = 0.032000000000000001\n",
      "PFC_to_PMC = 0.020000000000000004\n",
      "PMC_to_MC = 0.013999999999999999\n",
      "V1_to_AIT = 0.023\n",
      "finger_to_end = 0.032999999999999988\n",
      "retina_to_V1 = 0.0050000000000000001\n"
     ]
    },
    {
     "data": {
      "text/plain": [
       "{'AIT_to_PFC': 0.022000000000000002,\n",
       " 'MC_to_finger': 0.032000000000000001,\n",
       " 'PFC_to_PMC': 0.020000000000000004,\n",
       " 'PMC_to_MC': 0.013999999999999999,\n",
       " 'V1_to_AIT': 0.023,\n",
       " 'finger_to_end': 0.032999999999999988,\n",
       " 'retina_to_V1': 0.0050000000000000001}"
      ]
     },
     "execution_count": 9,
     "metadata": {},
     "output_type": "execute_result"
    }
   ],
   "source": [
    "vision_benchmarks.Vision_Model().run(seed = 1)"
   ]
  },
  {
   "cell_type": "markdown",
   "metadata": {
    "collapsed": true
   },
   "source": [
    "The total latency (calculated as the sum of all these numbers) is 0.145s, or 145 ms. The parameter that was not taken into consideration was retina_to_V1, which should have been in the 0.02s to 0.04s range. This brings the total latency close to 180 ms, which is the average latency for monkeys.   "
   ]
  }
 ],
 "metadata": {
  "kernelspec": {
   "display_name": "Python 2",
   "language": "python",
   "name": "python2"
  },
  "language_info": {
   "codemirror_mode": {
    "name": "ipython",
    "version": 2
   },
   "file_extension": ".py",
   "mimetype": "text/x-python",
   "name": "python",
   "nbconvert_exporter": "python",
   "pygments_lexer": "ipython2",
   "version": "2.7.9"
  }
 },
 "nbformat": 4,
 "nbformat_minor": 0
}
