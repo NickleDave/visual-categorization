{
 "cells": [
  {
   "cell_type": "markdown",
   "metadata": {
    "collapsed": true
   },
   "source": [
    "This is the final test of this model, using the parameters found by running hyperopt on each parameter in the model individually. "
   ]
  },
  {
   "cell_type": "code",
   "execution_count": 4,
   "metadata": {
    "collapsed": true
   },
   "outputs": [],
   "source": [
    "import ctn_benchmark\n",
    "\n",
    "%matplotlib inline\n",
    "import numpy as np\n",
    "import matplotlib as mpl\n",
    "import matplotlib.pyplot as plt\n",
    "from hyperopt import fmin, hp, tpe, Trials, rand\n",
    "import pickle\n",
    "import hyperopt"
   ]
  },
  {
   "cell_type": "code",
   "execution_count": 5,
   "metadata": {
    "collapsed": false
   },
   "outputs": [
    {
     "data": {
      "text/plain": [
       "<module 'vision_benchmarks_final' from 'vision_benchmarks_final.py'>"
      ]
     },
     "execution_count": 5,
     "metadata": {},
     "output_type": "execute_result"
    }
   ],
   "source": [
    "import vision_benchmarks_final\n",
    "reload (vision_benchmarks_final)"
   ]
  },
  {
   "cell_type": "code",
   "execution_count": 6,
   "metadata": {
    "collapsed": false
   },
   "outputs": [
    {
     "name": "stdout",
     "output_type": "stream",
     "text": [
      "running Vision_Model#20160803-155127-0419c9e6\n",
      "Simulation finished in 0:00:25.                                                 \n",
      "_runtime = 2\n",
      "_result_feedback = 0.46003873368799186\n",
      "_compare_to_result_strength = 0.1416302690767407\n",
      "_D = 32\n",
      "_motor_feedback = 0.13055354933808305\n",
      "_motor_transform = 2.0\n",
      "_finger_feedback = 0.6964691855978616\n",
      "_motor_to_fingers_strength = 0.8333928248007452\n",
      "_AIT_V1_strength = 0.10606490595473272\n",
      "_V1_r_transform = 0.10606490595473272\n",
      "_AIT_r_transform = 0.6964691855978616\n",
      "_backend = 'nengo'\n",
      "_dt = 0.001\n",
      "_seed = 1\n",
      "_hide_overlay = False\n",
      "_gui = False\n",
      "AIT_to_PFC = 0.021000000000000001\n",
      "MC_to_finger = 0.0010000000000000009\n",
      "PFC_to_PMC = 0.021000000000000005\n",
      "PMC_to_MC = 0.021999999999999992\n",
      "V1_to_AIT = 0.023\n",
      "finger_to_end = 0.026000000000000009\n",
      "retina_to_V1 = 0.0050000000000000001\n"
     ]
    },
    {
     "data": {
      "text/plain": [
       "{'AIT_to_PFC': 0.021000000000000001,\n",
       " 'MC_to_finger': 0.0010000000000000009,\n",
       " 'PFC_to_PMC': 0.021000000000000005,\n",
       " 'PMC_to_MC': 0.021999999999999992,\n",
       " 'V1_to_AIT': 0.023,\n",
       " 'finger_to_end': 0.026000000000000009,\n",
       " 'retina_to_V1': 0.0050000000000000001}"
      ]
     },
     "execution_count": 6,
     "metadata": {},
     "output_type": "execute_result"
    }
   ],
   "source": [
    "vision_benchmarks_final.Vision_Model().run(seed = 1)"
   ]
  },
  {
   "cell_type": "markdown",
   "metadata": {},
   "source": [
    "Analysis will happen here, you just wait. I need to set up some tests first. "
   ]
  }
 ],
 "metadata": {
  "kernelspec": {
   "display_name": "Python 2",
   "language": "python",
   "name": "python2"
  },
  "language_info": {
   "codemirror_mode": {
    "name": "ipython",
    "version": 2
   },
   "file_extension": ".py",
   "mimetype": "text/x-python",
   "name": "python",
   "nbconvert_exporter": "python",
   "pygments_lexer": "ipython2",
   "version": "2.7.9"
  }
 },
 "nbformat": 4,
 "nbformat_minor": 0
}
