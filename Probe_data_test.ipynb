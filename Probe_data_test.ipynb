{
 "cells": [
  {
   "cell_type": "code",
   "execution_count": 1,
   "metadata": {
    "collapsed": false
   },
   "outputs": [],
   "source": [
    "import nengo\n",
    "import nengo.spa\n",
    "#import pandas\n",
    "import numpy as np\n",
    "#import seaborn as sns\n",
    "import matplotlib.pyplot as plt\n",
    "import pylab\n",
    "%matplotlib inline"
   ]
  },
  {
   "cell_type": "code",
   "execution_count": 2,
   "metadata": {
    "collapsed": false
   },
   "outputs": [
    {
     "data": {
      "text/plain": [
       "<module 'second_pass' from 'second_pass.pyc'>"
      ]
     },
     "execution_count": 2,
     "metadata": {},
     "output_type": "execute_result"
    }
   ],
   "source": [
    "import second_pass as main\n",
    "reload (main)\n",
    "#type(main.model.vision_system.V1)"
   ]
  },
  {
   "cell_type": "code",
   "execution_count": 3,
   "metadata": {
    "collapsed": false
   },
   "outputs": [
    {
     "name": "stdout",
     "output_type": "stream",
     "text": [
      "Simulation finished in 0:00:39.                                                 \n"
     ]
    }
   ],
   "source": [
    "sim = nengo.Simulator(main.model)\n",
    "sim.run(3)"
   ]
  },
  {
   "cell_type": "code",
   "execution_count": 4,
   "metadata": {
    "collapsed": false
   },
   "outputs": [],
   "source": [
    "def get_delay(probe, object_to_compare, V1 = False):\n",
    "    data = sim.data[probe]\n",
    "    dot_prod = np.dot(data, object_to_compare)\n",
    "    if V1:\n",
    "        lat = np.where(dot_prod >= ((dot_prod.max() + dot_prod.min())/2))[0]\n",
    "    else: \n",
    "        lat = np.where(dot_prod >= dot_prod.max()/2)[0]\n",
    "    start, end = lat[0], lat[-1]\n",
    "    return sim.trange()[start], sim.trange()[end]"
   ]
  },
  {
   "cell_type": "code",
   "execution_count": 5,
   "metadata": {
    "collapsed": false
   },
   "outputs": [
    {
     "name": "stdout",
     "output_type": "stream",
     "text": [
      "V1 delay =  0.004  1.005\n"
     ]
    }
   ],
   "source": [
    "V1_start, V1_end = get_delay(main.V1_probe, main.image_list[0], V1 = True)\n",
    "print 'V1 delay = ', V1_start,'', V1_end"
   ]
  },
  {
   "cell_type": "code",
   "execution_count": 6,
   "metadata": {
    "collapsed": false
   },
   "outputs": [
    {
     "name": "stdout",
     "output_type": "stream",
     "text": [
      "AIT delay =  0.016 , 1.01\n"
     ]
    }
   ],
   "source": [
    "AIT_start, AIT_end = get_delay(main.AIT_probe, main.model.get_output_vocab('wm').parse('FATIGUE').v)\n",
    "print \"AIT delay = \", AIT_start,\",\", AIT_end"
   ]
  },
  {
   "cell_type": "code",
   "execution_count": 7,
   "metadata": {
    "collapsed": false,
    "scrolled": true
   },
   "outputs": [
    {
     "name": "stdout",
     "output_type": "stream",
     "text": [
      "0.035 , 1.028\n"
     ]
    }
   ],
   "source": [
    "PFC_start, PFC_end = get_delay(main.PFC_probe, np.ones((1, 3000)))\n",
    "print PFC_start,',', PFC_end"
   ]
  },
  {
   "cell_type": "code",
   "execution_count": 8,
   "metadata": {
    "collapsed": false
   },
   "outputs": [
    {
     "name": "stdout",
     "output_type": "stream",
     "text": [
      "0.06 1.04\n"
     ]
    }
   ],
   "source": [
    "PMC_start, PMC_end = get_delay(main.PMC_probe, main.model.get_output_vocab('result').parse('SAME').v)\n",
    "print PMC_start, PMC_end"
   ]
  },
  {
   "cell_type": "code",
   "execution_count": 9,
   "metadata": {
    "collapsed": false
   },
   "outputs": [
    {
     "name": "stdout",
     "output_type": "stream",
     "text": [
      "0.064 1.077\n"
     ]
    }
   ],
   "source": [
    "MC_start, MC_end = get_delay(main.MC_probe, main.model.motor_system.motor_vocab.parse('PUSH').v)\n",
    "print MC_start, MC_end"
   ]
  },
  {
   "cell_type": "code",
   "execution_count": 10,
   "metadata": {
    "collapsed": false,
    "scrolled": true
   },
   "outputs": [
    {
     "name": "stdout",
     "output_type": "stream",
     "text": [
      "0.092 1.064\n"
     ]
    }
   ],
   "source": [
    "finger_start, finger_end = get_delay(main.finger_probe, main.model.motor_system.finger_vocab.parse('F1').v)\n",
    "print finger_start, finger_end"
   ]
  },
  {
   "cell_type": "code",
   "execution_count": 11,
   "metadata": {
    "collapsed": false
   },
   "outputs": [
    {
     "name": "stdout",
     "output_type": "stream",
     "text": [
      "0.107 1.074\n"
     ]
    }
   ],
   "source": [
    "final_start, final_end = get_delay(main.final_probe, np.ones((1, 3000)))\n",
    "print final_start, final_end"
   ]
  },
  {
   "cell_type": "code",
   "execution_count": 14,
   "metadata": {
    "collapsed": false
   },
   "outputs": [
    {
     "name": "stdout",
     "output_type": "stream",
     "text": [
      "0.004\n"
     ]
    }
   ],
   "source": [
    "retina_to_V1 = V1_start\n",
    "V1_to_AIT = AIT_start - V1_start\n",
    "AIT_to_PFC = PFC_start - AIT_start\n",
    "PFC_to_PMC = PMC_start - PFC_start\n",
    "PMC_to_MC = MC_start - PMC_start\n",
    "print(retina_to_V1)"
   ]
  },
  {
   "cell_type": "code",
   "execution_count": null,
   "metadata": {
    "collapsed": true
   },
   "outputs": [],
   "source": []
  },
  {
   "cell_type": "code",
   "execution_count": null,
   "metadata": {
    "collapsed": true
   },
   "outputs": [],
   "source": []
  }
 ],
 "metadata": {
  "kernelspec": {
   "display_name": "Python 2",
   "language": "python",
   "name": "python2"
  },
  "language_info": {
   "codemirror_mode": {
    "name": "ipython",
    "version": 2
   },
   "file_extension": ".py",
   "mimetype": "text/x-python",
   "name": "python",
   "nbconvert_exporter": "python",
   "pygments_lexer": "ipython2",
   "version": "2.7.9"
  }
 },
 "nbformat": 4,
 "nbformat_minor": 0
}
